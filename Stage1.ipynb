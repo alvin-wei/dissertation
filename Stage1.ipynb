{
 "cells": [
  {
   "cell_type": "code",
   "execution_count": 1,
   "metadata": {
    "colab": {
     "base_uri": "https://localhost:8080/"
    },
    "executionInfo": {
     "elapsed": 36142,
     "status": "ok",
     "timestamp": 1672677558861,
     "user": {
      "displayName": "Wei Alvin",
      "userId": "03635082677672949810"
     },
     "user_tz": 0
    },
    "id": "FiH2KmFvIYcQ",
    "outputId": "b8471c3f-3716-4f0b-9c89-c9184fce207a"
   },
   "outputs": [
    {
     "name": "stdout",
     "output_type": "stream",
     "text": [
      "Mounted at /content/drive\n"
     ]
    }
   ],
   "source": [
    "# connect Google drive\n",
    "from google.colab import drive\n",
    "drive.mount(\"/content/drive\")"
   ]
  },
  {
   "cell_type": "code",
   "execution_count": 2,
   "metadata": {
    "colab": {
     "base_uri": "https://localhost:8080/"
    },
    "executionInfo": {
     "elapsed": 4823,
     "status": "ok",
     "timestamp": 1672677658031,
     "user": {
      "displayName": "Wei Alvin",
      "userId": "03635082677672949810"
     },
     "user_tz": 0
    },
    "id": "z8O9H7HAseR7",
    "outputId": "b5d600c6-b37b-4b06-e1c7-37e73d9f8462"
   },
   "outputs": [
    {
     "name": "stdout",
     "output_type": "stream",
     "text": [
      "Looking in indexes: https://pypi.org/simple, https://us-python.pkg.dev/colab-wheels/public/simple/\n",
      "Requirement already satisfied: geopy in /usr/local/lib/python3.8/dist-packages (1.17.0)\n",
      "Collecting geopy\n",
      "  Downloading geopy-2.3.0-py3-none-any.whl (119 kB)\n",
      "\u001b[K     |████████████████████████████████| 119 kB 13.2 MB/s \n",
      "\u001b[?25hRequirement already satisfied: geographiclib<3,>=1.52 in /usr/local/lib/python3.8/dist-packages (from geopy) (1.52)\n",
      "Installing collected packages: geopy\n",
      "  Attempting uninstall: geopy\n",
      "    Found existing installation: geopy 1.17.0\n",
      "    Uninstalling geopy-1.17.0:\n",
      "      Successfully uninstalled geopy-1.17.0\n",
      "Successfully installed geopy-2.3.0\n"
     ]
    }
   ],
   "source": [
    "!pip3 install -U geopy "
   ]
  },
  {
   "cell_type": "code",
   "execution_count": 3,
   "metadata": {
    "executionInfo": {
     "elapsed": 288,
     "status": "ok",
     "timestamp": 1672678290942,
     "user": {
      "displayName": "Wei Alvin",
      "userId": "03635082677672949810"
     },
     "user_tz": 0
    },
    "id": "pQX_mSovT7H2"
   },
   "outputs": [],
   "source": [
    "# create working dir\n",
    "!mkdir ./data"
   ]
  },
  {
   "cell_type": "code",
   "execution_count": 54,
   "metadata": {
    "executionInfo": {
     "elapsed": 313,
     "status": "ok",
     "timestamp": 1672690044072,
     "user": {
      "displayName": "Wei Alvin",
      "userId": "03635082677672949810"
     },
     "user_tz": 0
    },
    "id": "JgHSn_XJIcdZ"
   },
   "outputs": [],
   "source": [
    "# pd data pre load\n",
    "import pandas as pd\n",
    "import os\n",
    "import numpy as np\n",
    "\n",
    "class DatasetLoader():\n",
    "\tdef __init__(self, filepath, filetype, sheet_name=None, usecols=None, output_dir=\"./data\", drop_subset_duplicates=None):\n",
    "\t\tdata = None\n",
    "\t\tif not os.path.exists(filepath):\n",
    "\t\t\traise ValueError('file does not exist!')\n",
    "\t\tif filetype == \"xlsx\":\n",
    "\t\t\ttry:\n",
    "\t\t\t\tdata = pd.read_excel(filepath, sheet_name=sheet_name, usecols=usecols)\n",
    "\t\t\texcept RuntimeError as e:\n",
    "\t\t\t\tprint(e.args)\n",
    "\t\telif filetype == \"csv\":\n",
    "\t\t\tdata = pd.read_csv(filepath)\n",
    "\t\tif data.empty:\n",
    "\t\t\traise RuntimeError('data empty!')\n",
    "\t\tif drop_subset_duplicates:\n",
    "\t\t\tdata = data.drop_duplicates(subset=drop_subset_duplicates, keep=\"first\")\n",
    "\t\tif not os.path.exists(output_dir):\n",
    "\t\t\tos.mkdir(output_dir)\n",
    "\t\tdata.to_csv(os.path.join(output_dir, \"data.csv\"), index=None)\n",
    "\n",
    "\tdef get_dataset(self, file_path=\"./data/data.csv\", objtype=\"df\", split=0.8, filter_subset=None):\n",
    "\t\tif not os.path.exists(file_path):\n",
    "\t\t\traise ValueError('file does not exist!')\n",
    "\t\tdata = None\n",
    "\t\tif objtype == \"df\":\n",
    "\t\t\tdata = pd.read_csv(file_path)\n",
    "\t\t\tif filter_subset:\n",
    "\t\t\t\tdata = data.dropna(subset=filter_subset)\n",
    "\t\telif objtype == \"ds\":\n",
    "\t\t\tfile_format = os.path.splitext(file_path)[-1]\n",
    "\t\t\tif file_format in [\"csv\", \"json\"]:\n",
    "\t\t\t\tdata = data.load_dataset(\"csv\", data_files=file_path)\n",
    "\t\t\telse:\n",
    "\t\t\t\traise ValueError('file format not supported')\n",
    "\t\t\tif filter_subset:\n",
    "\t\t\t\tdata = data.filter(lambda x: x[f] for f in filter_subset)\n",
    "\t\telse:\n",
    "\t\t\t# return list\n",
    "\t\t\tpass\n",
    "\t\treturn data\n"
   ]
  },
  {
   "cell_type": "code",
   "execution_count": 55,
   "metadata": {
    "executionInfo": {
     "elapsed": 3464,
     "status": "ok",
     "timestamp": 1672690051425,
     "user": {
      "displayName": "Wei Alvin",
      "userId": "03635082677672949810"
     },
     "user_tz": 0
    },
    "id": "rgcfyVY2VXv8"
   },
   "outputs": [],
   "source": [
    "file_path = \"/content/drive/MyDrive/data/RM_Wyoming_georef_training_2022-07-11.xlsx\"\n",
    "data_dir = \"/content/data\"\n",
    "\n",
    "obj_df = DatasetLoader(\n",
    "    filepath = file_path,\n",
    "    filetype = \"xlsx\",\n",
    "    sheet_name = \"RM_Woming_georef_training\",\n",
    "    usecols = [0, 16, 17, 18, 19, 23, 26, 27],\n",
    "    output_dir = data_dir,\n",
    "    drop_subset_duplicates = ['Country','State', 'County', 'Locality', 'GeorefLatitude', 'GeorefLongitude']\n",
    ")\n",
    "\n",
    "data_df = obj_df.get_dataset(file_path = os.path.join(data_dir, \"data.csv\"), objtype = \"df\", split = 0.8, filter_subset = [\"Locality\", 'GeorefLatitude', 'GeorefLongitude'])\n",
    "# print(data_df)"
   ]
  },
  {
   "cell_type": "code",
   "execution_count": null,
   "metadata": {
    "id": "om_9i8gcY1Yw"
   },
   "outputs": [],
   "source": [
    "!pip3 install -U spacy\n",
    "!python3 -m spacy download en_core_web_trf"
   ]
  },
  {
   "cell_type": "code",
   "execution_count": 56,
   "metadata": {
    "colab": {
     "base_uri": "https://localhost:8080/"
    },
    "executionInfo": {
     "elapsed": 2762,
     "status": "ok",
     "timestamp": 1672690059742,
     "user": {
      "displayName": "Wei Alvin",
      "userId": "03635082677672949810"
     },
     "user_tz": 0
    },
    "id": "YGCGyDVBIeH9",
    "outputId": "4cb2667e-4093-496e-8bc2-14e39a596d20"
   },
   "outputs": [
    {
     "name": "stdout",
     "output_type": "stream",
     "text": [
      "          ID Country    State      County  \\\n",
      "0     129957  U.S.A.  Wyoming        Park   \n",
      "1     199041  U.S.A.  Wyoming  Sweetwater   \n",
      "2     199207  U.S.A.  Wyoming      Carbon   \n",
      "3     199643  U.S.A.  Wyoming       Crook   \n",
      "4     199816  U.S.A.  Wyoming    Big Horn   \n",
      "...      ...     ...      ...         ...   \n",
      "1548  921265  U.S.A.  Wyoming    Sublette   \n",
      "1549  922154  U.S.A.  Wyoming       Teton   \n",
      "1550  922900  U.S.A.  Wyoming     Fremont   \n",
      "1551  925313  U.S.A.  Wyoming      Carbon   \n",
      "1552  925387  U.S.A.  Wyoming     Fremont   \n",
      "\n",
      "                                               Locality  \\\n",
      "0     Yellowstone Plateau: Yellowstone National Park...   \n",
      "1     Washakie Basin: steeply tilted sandstone ridge...   \n",
      "2     Medicine Bow Range: isolated fen complex betwe...   \n",
      "3     Sand Creek crossing, just upstream, west side ...   \n",
      "4                                       Horseshoe Bend.   \n",
      "...                                                 ...   \n",
      "1548             Wyoming National Forest: Snider Basin.   \n",
      "1549                          Outlet of Two Ocean Lake.   \n",
      "1550          Near Roberson Mines, 20 mi N of Shoshone.   \n",
      "1551  Sierra Madre: Teddy Creek Jeep Trail, ca 8 air...   \n",
      "1552          Between Crooks Mountain and U.S. Hwy 287.   \n",
      "\n",
      "                                        SiteDescription  GeorefLatitude  \\\n",
      "0     On sinter with Dichanthelium acuminatum, Pteri...        44.69270   \n",
      "1     Extensive sandstone outcrops with Juniperus os...        41.00740   \n",
      "2     Occasional in fen transition near tree island,...        41.46370   \n",
      "3                  Birch-hazelnut with Sanicula, Rubus.        44.41260   \n",
      "4                     Sandy littoral edge of reservoir.        44.95810   \n",
      "...                                                 ...             ...   \n",
      "1548  Gravelly shaloow loam; with Stipa, Poa, and Ph...        42.48535   \n",
      "1549               Willow thicket with Salix geyeriana.        43.90120   \n",
      "1550                              On moist stream bank.        43.42370   \n",
      "1551                                 In bog near trail.        41.19080   \n",
      "1552                                   Disturbed sites.        42.43050   \n",
      "\n",
      "      GeorefLongitude  \n",
      "0          -110.73790  \n",
      "1          -109.19770  \n",
      "2          -106.20230  \n",
      "3          -104.09600  \n",
      "4          -108.26070  \n",
      "...               ...  \n",
      "1548       -110.53506  \n",
      "1549       -110.50130  \n",
      "1550       -107.97690  \n",
      "1551       -106.94210  \n",
      "1552       -107.98220  \n",
      "\n",
      "[1538 rows x 8 columns]\n",
      "            ID                                           Locality Country  \\\n",
      "0     129957.0  Yellowstone Plateau: Yellowstone National Park...  U.S.A.   \n",
      "1     199041.0  Washakie Basin: steeply tilted sandstone ridge...  U.S.A.   \n",
      "2     199207.0  Medicine Bow Range: isolated fen complex betwe...  U.S.A.   \n",
      "3     199643.0  Sand Creek crossing, just upstream, west side ...  U.S.A.   \n",
      "4     199816.0                                    Horseshoe Bend.  U.S.A.   \n",
      "...        ...                                                ...     ...   \n",
      "1548  921265.0             Wyoming National Forest: Snider Basin.  U.S.A.   \n",
      "1549  922154.0                          Outlet of Two Ocean Lake.  U.S.A.   \n",
      "1550  922900.0          Near Roberson Mines, 20 mi N of Shoshone.  U.S.A.   \n",
      "1551  925313.0  Sierra Madre: Teddy Creek Jeep Trail, ca 8 air...  U.S.A.   \n",
      "1552  925387.0          Between Crooks Mountain and U.S. Hwy 287.  U.S.A.   \n",
      "\n",
      "        State      County  GeorefLatitude  GeorefLongitude SpacyNER  \\\n",
      "0     Wyoming        Park        44.69270       -110.73790      NaN   \n",
      "1     Wyoming  Sweetwater        41.00740       -109.19770      NaN   \n",
      "2     Wyoming      Carbon        41.46370       -106.20230      NaN   \n",
      "3     Wyoming       Crook        44.41260       -104.09600      NaN   \n",
      "4     Wyoming    Big Horn        44.95810       -108.26070      NaN   \n",
      "...       ...         ...             ...              ...      ...   \n",
      "1548  Wyoming    Sublette        42.48535       -110.53506      NaN   \n",
      "1549  Wyoming       Teton        43.90120       -110.50130      NaN   \n",
      "1550  Wyoming     Fremont        43.42370       -107.97690      NaN   \n",
      "1551  Wyoming      Carbon        41.19080       -106.94210      NaN   \n",
      "1552  Wyoming     Fremont        42.43050       -107.98220      NaN   \n",
      "\n",
      "     prediction_mean prediction_smallest  \n",
      "0                NaN                 NaN  \n",
      "1                NaN                 NaN  \n",
      "2                NaN                 NaN  \n",
      "3                NaN                 NaN  \n",
      "4                NaN                 NaN  \n",
      "...              ...                 ...  \n",
      "1548             NaN                 NaN  \n",
      "1549             NaN                 NaN  \n",
      "1550             NaN                 NaN  \n",
      "1551             NaN                 NaN  \n",
      "1552             NaN                 NaN  \n",
      "\n",
      "[1538 rows x 10 columns]\n"
     ]
    }
   ],
   "source": [
    "# NER\n",
    "import spacy\n",
    "from geopy.geocoders import Nominatim\n",
    "\n",
    "# init spacy\n",
    "trf = spacy.load(\"en_core_web_trf\")\n",
    "\n",
    "# test\n",
    "# data_df = data_df[0:500]\n",
    "print(data_df)\n",
    "\n",
    "# collect places name\n",
    "def collect_places(locality):\n",
    "  res = []\n",
    "  docs = trf(locality)\n",
    "  label_ls = ('GEO','GPE','ORG','FAC','LOC')\n",
    "  for ent in docs.ents:\n",
    "    if ent.label_ in label_ls:\n",
    "      res.append(ent.text)\n",
    "  return \"|\".join(res)\n",
    "\n",
    "spacy_df = data_df[[\"ID\", \"Locality\", \"Country\", \"State\", \"County\", \"GeorefLatitude\", \"GeorefLongitude\"]].copy()\n",
    "spacy_df = pd.concat([spacy_df, pd.DataFrame(columns=[\"SpacyNER\", \"prediction_mean\", \"prediction_smallest\"])], sort=False)\n",
    "print(spacy_df)\n"
   ]
  },
  {
   "cell_type": "code",
   "execution_count": 57,
   "metadata": {
    "executionInfo": {
     "elapsed": 367,
     "status": "ok",
     "timestamp": 1672690099047,
     "user": {
      "displayName": "Wei Alvin",
      "userId": "03635082677672949810"
     },
     "user_tz": 0
    },
    "id": "DeiBMGw9uufa"
   },
   "outputs": [],
   "source": [
    "iso3166_file = \"/content/drive/MyDrive/data/ISO3166-1_countryCode.csv\"\n",
    "country_codes_df = pd.read_csv(iso3166_file)\n",
    "# print(country_codes_df)"
   ]
  },
  {
   "cell_type": "code",
   "execution_count": 62,
   "metadata": {
    "executionInfo": {
     "elapsed": 336,
     "status": "ok",
     "timestamp": 1672692163701,
     "user": {
      "displayName": "Wei Alvin",
      "userId": "03635082677672949810"
     },
     "user_tz": 0
    },
    "id": "9yNDMMHkIjX-"
   },
   "outputs": [],
   "source": [
    "# geopy\n",
    "\n",
    "# get coordinates\n",
    "geolocator = Nominatim(user_agent=\"test_geo\")\n",
    "\n",
    "# country code\n",
    "# code_idx = country_codes_df[(country_codes_df[\"country name\"]==\"U.S.A.\")].index\n",
    "# print(code_idx)\n",
    "\n",
    "def get_country_code(country_name):\n",
    "  code = None\n",
    "  code_idx = country_codes_df[(country_codes_df[\"country name\"]==country_name)].index.tolist()\n",
    "  if len(code_idx)>0:\n",
    "    # print(code_idx)\n",
    "    # code = country_codes_df.iloc[code_idx[0], 0]\n",
    "    code = country_codes_df.loc[code_idx[0], \"country code\"]\n",
    "    # print(code)\n",
    "  else:\n",
    "    pass\n",
    "  return code\n",
    "\n",
    "# def get_coordinates(places, countryCode, state, county):\n",
    "#   granularity_level = \"state\"\n",
    "#   corrds_res, smallest_res = [], []\n",
    "#   county_, state_ = None, None\n",
    "#   locs = places.split(\"|\")\n",
    "#   for loc in locs:\n",
    "#     locations = geolocator.geocode(loc, exactly_one=False, country_codes=countryCode, language=\"english\", namedetails=True, addressdetails=True)\n",
    "#     print(loc, locations)\n",
    "#     if locations:\n",
    "#       for location in locations:\n",
    "#         # print(location.raw)\n",
    "#         print(location.raw['address'], location.latitude, location.longitude)\n",
    "#         if location.latitude and location.longitude:\n",
    "#           state_ = location.raw['address'][\"state\"]\n",
    "#           country_code_ = location.raw['address'][\"country_code\"]\n",
    "#           if country_code == countryCode and state_ == state:\n",
    "#             if \"county\" in location.raw['address']:\n",
    "#               county_ = country_code_ = location.raw['address'][\"county\"]\n",
    "#               if county_ == county:\n",
    "#                 if granularity_level == \"state\":\n",
    "#                   granularity_level = \"county\"\n",
    "#                   smallest_res = [[location.latitude, location.longitude]]\n",
    "#                 else:\n",
    "#                   smallest_res.append([location.latitude, location.longitude])\n",
    "#             else:\n",
    "#               if granularity_level == \"state\":\n",
    "#                 smallest_res.append([location.latitude, location.longitude])\n",
    "#               else:\n",
    "#                 pass\n",
    "#             corrds_res.append([location.latitude, location.longitude])\n",
    "#        # print(f\"placeName: {loc} location: {location} latitude: {location.latitude} longitude: {location.longitude}\")\n",
    "#     return np.array(corrds_res, dtype=np.float32), np.array(smallest_res, dtype=np.float32)\n",
    "\n",
    "def get_coordinates(places, countryCode, state, county):\n",
    "  def process_loc(loc, state, county):\n",
    "    addr = loc.raw['address']\n",
    "    remove_ls = [\"ISO3166-2-lvl4\", \"country\", \"postcode\", \"country_code\"]\n",
    "    res = None\n",
    "    for i in remove_ls:\n",
    "      addr.pop(i, \"Not have the key\")\n",
    "    if \"county\" in addr and county == addr[\"county\"]:\n",
    "      res = loc\n",
    "    else:\n",
    "      if \"state\" in addr and state == addr[\"state\"]:\n",
    "        res = loc\n",
    "    return res\n",
    "  \n",
    "  corrds_res, smallest_res = [], []\n",
    "  locs = places.split(\"|\")\n",
    "  for loc in locs:\n",
    "    locations = geolocator.geocode(loc, exactly_one=False, country_codes=countryCode, language=\"english\", namedetails=True, addressdetails=True, timeout=2)\n",
    "    # print(loc, locations)\n",
    "    if locations:\n",
    "      for location in locations:\n",
    "        # print(location.raw)\n",
    "        # print(location.raw['address'], location.latitude, location.longitude)\n",
    "        if location.latitude and location.longitude:\n",
    "          # print(f\"placeName: {loc} location: {location} latitude: {location.latitude} longitude: {location.longitude}\")\n",
    "          corrds_res.append([location.latitude, location.longitude])\n",
    "          res = process_loc(location, state, county)\n",
    "          if res:\n",
    "            smallest_res.append([location, len(res)])\n",
    "    return np.array(corrds_res, dtype=np.float32), smallest_res\n"
   ]
  },
  {
   "cell_type": "code",
   "execution_count": 59,
   "metadata": {
    "executionInfo": {
     "elapsed": 770,
     "status": "ok",
     "timestamp": 1672690106433,
     "user": {
      "displayName": "Wei Alvin",
      "userId": "03635082677672949810"
     },
     "user_tz": 0
    },
    "id": "bURX2wusIlfb"
   },
   "outputs": [],
   "source": [
    "# mean coordinates\n",
    "def compute_mean(locs):\n",
    "  return np.mean(locs, axis=0)\n",
    "\n",
    "def compute_smallest(locs):\n",
    "  smallest = None\n",
    "  res = [None, 0]\n",
    "  for loc in locs:\n",
    "    if loc[1] > res[1]:\n",
    "      res = loc\n",
    "  return np.array([res[0].latitude, res[0].longitude])"
   ]
  },
  {
   "cell_type": "code",
   "execution_count": null,
   "metadata": {
    "id": "Dkgww_0inGAS"
   },
   "outputs": [],
   "source": [
    "import time\n",
    "\n",
    "for index, row in spacy_df.iterrows():\n",
    "  places = collect_places(row[\"Locality\"])\n",
    "  # # print(index, row)\n",
    "  if places:\n",
    "    spacy_df.loc[index, \"SpacyNER\"] = places\n",
    "    country_code = get_country_code(row[\"Country\"])\n",
    "    # geo_res = get_coordinates(places=places, country_codes=row[\"Country\"], county=row[\"County\"], state=row[\"State\"])\n",
    "    corrds_res, smallest_res = get_coordinates(places=places, countryCode=country_code, state=row[\"State\"], county=row[\"County\"])\n",
    "    if len(corrds_res) > 0:\n",
    "      spacy_df.loc[index, \"prediction_mean\"] = np.array2string(compute_mean(corrds_res), separator=\",\")[1:-1]\n",
    "    if len(smallest_res) > 0:\n",
    "      spacy_df.loc[index, \"prediction_smallest\"] = np.array2string(compute_smallest(smallest_res), separator=\",\")[1:-1]\n",
    "    print(index, \"done!\")\n",
    "    time.sleep(1.5)\n",
    "\n",
    "spacy_df.to_csv(os.path.join(\"./data/\", \"result.csv\"), index=None)"
   ]
  },
  {
   "cell_type": "code",
   "execution_count": 96,
   "metadata": {
    "colab": {
     "base_uri": "https://localhost:8080/"
    },
    "executionInfo": {
     "elapsed": 342,
     "status": "ok",
     "timestamp": 1672697201785,
     "user": {
      "displayName": "Wei Alvin",
      "userId": "03635082677672949810"
     },
     "user_tz": 0
    },
    "id": "MO4QrnU1Ipt9",
    "outputId": "2695ef76-ca28-4ec9-8a27-c524a13a3c2a"
   },
   "outputs": [
    {
     "name": "stdout",
     "output_type": "stream",
     "text": [
      "pred empty: 21.98%\n",
      "accuracy: 34.14%\n",
      "accuracy without empty values: 43.75%\n"
     ]
    }
   ],
   "source": [
    "# evaluate\n",
    "result_file = \"./data/result.csv\"\n",
    "result_df = pd.read_csv(result_file)\n",
    "# print(result_df)\n",
    "\n",
    "# offset for evaluate\n",
    "offset = 2\n",
    "\n",
    "# compute accuracy\n",
    "empty_counts = 0\n",
    "accuracy_counts = 0\n",
    "total = len(result_df)\n",
    "\n",
    "def compute_accuracy(data, pred, offset_=0.0):\n",
    "  pred = pred.split(\",\")\n",
    "  lat_val, lon_val = False, False\n",
    "  lat_range = [data[0]-offset_, data[0]+offset_]\n",
    "  lon_range = [data[1]-offset_, data[1]+offset_]\n",
    "  pred = np.array(pred, dtype=np.float32)\n",
    "  if pred[0] > lat_range[0] and pred[0] < lat_range[1]: lat_val = True\n",
    "  if pred[1] > lon_range[0] and pred[1] < lon_range[1]: lon_range = True\n",
    "  return lat_val and lon_range\n",
    "\n",
    "# priority smallest, if empty, get mean\n",
    "for index, row in result_df.iterrows():\n",
    "  res_mean = row[\"prediction_mean\"]\n",
    "  res_smallest = row[\"prediction_smallest\"]\n",
    "  if not pd.isna(res_smallest):\n",
    "    if compute_accuracy(data=[row[\"GeorefLatitude\"], row[\"GeorefLongitude\"]], pred=res_smallest, offset_=offset):\n",
    "      accuracy_counts += 1\n",
    "  elif not pd.isna(res_mean):\n",
    "    if compute_accuracy(data=[row[\"GeorefLatitude\"], row[\"GeorefLongitude\"]], pred=res_mean, offset_=offset):\n",
    "      accuracy_counts += 1\n",
    "  else:\n",
    "    empty_counts += 1\n",
    "\n",
    "# empty rate\n",
    "print(\"pred empty: %0.2f%%\" % (empty_counts/total*100))\n",
    "\n",
    "# accuracy rate\n",
    "print(\"accuracy: %0.2f%%\" % (accuracy_counts/total*100))\n",
    "\n",
    "# accuracy rate(without empty)\n",
    "# print(accuracy_counts/(total-empty_counts))\n",
    "print(\"accuracy without empty values: %0.2f%%\" % (accuracy_counts/(total-empty_counts)*100))\n",
    "\n"
   ]
  },
  {
   "cell_type": "code",
   "execution_count": 97,
   "metadata": {
    "executionInfo": {
     "elapsed": 312,
     "status": "ok",
     "timestamp": 1672700334913,
     "user": {
      "displayName": "Wei Alvin",
      "userId": "03635082677672949810"
     },
     "user_tz": 0
    },
    "id": "tePUH_1TIugK"
   },
   "outputs": [],
   "source": [
    "!cp ./data/result.csv /content/drive/MyDrive/data/"
   ]
  }
 ],
 "metadata": {
  "colab": {
   "authorship_tag": "ABX9TyPs6//h+GXSQaf3/JfhFaZ3",
   "provenance": []
  },
  "kernelspec": {
   "display_name": "Python 3",
   "language": "python",
   "name": "python3"
  },
  "language_info": {
   "codemirror_mode": {
    "name": "ipython",
    "version": 3
   },
   "file_extension": ".py",
   "mimetype": "text/x-python",
   "name": "python",
   "nbconvert_exporter": "python",
   "pygments_lexer": "ipython3",
   "version": "3.6.8"
  }
 },
 "nbformat": 4,
 "nbformat_minor": 1
}
